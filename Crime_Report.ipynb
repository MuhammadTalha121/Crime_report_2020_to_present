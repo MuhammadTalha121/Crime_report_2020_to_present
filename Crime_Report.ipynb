{
  "cells": [
    {
      "cell_type": "markdown",
      "metadata": {
        "id": "SEczc18BdraX"
      },
      "source": [
        "IMPORTING NECESSARY LIBRARIES"
      ]
    },
    {
      "cell_type": "code",
      "execution_count": null,
      "metadata": {
        "id": "MGFZMy8Ldrae"
      },
      "outputs": [],
      "source": [
        "import pandas as pd"
      ]
    },
    {
      "cell_type": "code",
      "execution_count": null,
      "metadata": {
        "id": "O2-_hMG1drae"
      },
      "outputs": [],
      "source": [
        "df_m = pd.read_csv('crime_clean_data.csv')"
      ]
    },
    {
      "cell_type": "markdown",
      "metadata": {
        "id": "talHq58mdrae"
      },
      "source": [
        "Data Exploration!"
      ]
    },
    {
      "cell_type": "code",
      "execution_count": null,
      "metadata": {
        "id": "5vy3gizrdrae",
        "outputId": "77ce69cc-6231-4e42-8bc9-b7733a8ca87c"
      },
      "outputs": [
        {
          "data": {
            "text/html": [
              "<div>\n",
              "<style scoped>\n",
              "    .dataframe tbody tr th:only-of-type {\n",
              "        vertical-align: middle;\n",
              "    }\n",
              "\n",
              "    .dataframe tbody tr th {\n",
              "        vertical-align: top;\n",
              "    }\n",
              "\n",
              "    .dataframe thead th {\n",
              "        text-align: right;\n",
              "    }\n",
              "</style>\n",
              "<table border=\"1\" class=\"dataframe\">\n",
              "  <thead>\n",
              "    <tr style=\"text-align: right;\">\n",
              "      <th></th>\n",
              "      <th>AREA</th>\n",
              "      <th>AREA NAME</th>\n",
              "      <th>Part 1-2</th>\n",
              "      <th>Crm Cd</th>\n",
              "      <th>Crm Cd Desc</th>\n",
              "      <th>Vict Age</th>\n",
              "      <th>Premis Cd</th>\n",
              "      <th>Premis Desc</th>\n",
              "      <th>Status</th>\n",
              "      <th>Status Desc</th>\n",
              "      <th>LOCATION</th>\n",
              "      <th>LAT</th>\n",
              "      <th>LON</th>\n",
              "      <th>Date</th>\n",
              "    </tr>\n",
              "  </thead>\n",
              "  <tbody>\n",
              "    <tr>\n",
              "      <th>0</th>\n",
              "      <td>1</td>\n",
              "      <td>Central</td>\n",
              "      <td>1</td>\n",
              "      <td>330</td>\n",
              "      <td>BURGLARY FROM VEHICLE</td>\n",
              "      <td>47</td>\n",
              "      <td>128</td>\n",
              "      <td>BUS STOP/LAYOVER (ALSO QUERY 124)</td>\n",
              "      <td>IC</td>\n",
              "      <td>Invest Cont</td>\n",
              "      <td>1000 S  FLOWER                       ST</td>\n",
              "      <td>34.0444</td>\n",
              "      <td>-118.2628</td>\n",
              "      <td>02/08/2020 12:00:00 AM</td>\n",
              "    </tr>\n",
              "    <tr>\n",
              "      <th>1</th>\n",
              "      <td>3</td>\n",
              "      <td>Southwest</td>\n",
              "      <td>1</td>\n",
              "      <td>480</td>\n",
              "      <td>BIKE - STOLEN</td>\n",
              "      <td>19</td>\n",
              "      <td>502</td>\n",
              "      <td>MULTI-UNIT DWELLING (APARTMENT, DUPLEX, ETC)</td>\n",
              "      <td>IC</td>\n",
              "      <td>Invest Cont</td>\n",
              "      <td>1400 W  37TH                         ST</td>\n",
              "      <td>34.0210</td>\n",
              "      <td>-118.3002</td>\n",
              "      <td>11/04/2020 12:00:00 AM</td>\n",
              "    </tr>\n",
              "    <tr>\n",
              "      <th>2</th>\n",
              "      <td>9</td>\n",
              "      <td>Van Nuys</td>\n",
              "      <td>1</td>\n",
              "      <td>343</td>\n",
              "      <td>SHOPLIFTING-GRAND THEFT ($950.01 &amp; OVER)</td>\n",
              "      <td>19</td>\n",
              "      <td>405</td>\n",
              "      <td>CLOTHING STORE</td>\n",
              "      <td>IC</td>\n",
              "      <td>Invest Cont</td>\n",
              "      <td>14000    RIVERSIDE                    DR</td>\n",
              "      <td>34.1576</td>\n",
              "      <td>-118.4387</td>\n",
              "      <td>03/10/2020 12:00:00 AM</td>\n",
              "    </tr>\n",
              "    <tr>\n",
              "      <th>3</th>\n",
              "      <td>6</td>\n",
              "      <td>Hollywood</td>\n",
              "      <td>2</td>\n",
              "      <td>354</td>\n",
              "      <td>THEFT OF IDENTITY</td>\n",
              "      <td>28</td>\n",
              "      <td>102</td>\n",
              "      <td>SIDEWALK</td>\n",
              "      <td>IC</td>\n",
              "      <td>Invest Cont</td>\n",
              "      <td>1900    TRANSIENT</td>\n",
              "      <td>34.0944</td>\n",
              "      <td>-118.3277</td>\n",
              "      <td>08/17/2020 12:00:00 AM</td>\n",
              "    </tr>\n",
              "    <tr>\n",
              "      <th>4</th>\n",
              "      <td>18</td>\n",
              "      <td>Southeast</td>\n",
              "      <td>2</td>\n",
              "      <td>354</td>\n",
              "      <td>THEFT OF IDENTITY</td>\n",
              "      <td>41</td>\n",
              "      <td>501</td>\n",
              "      <td>SINGLE FAMILY DWELLING</td>\n",
              "      <td>IC</td>\n",
              "      <td>Invest Cont</td>\n",
              "      <td>9900    COMPTON                      AV</td>\n",
              "      <td>33.9467</td>\n",
              "      <td>-118.2463</td>\n",
              "      <td>12/01/2020 12:00:00 AM</td>\n",
              "    </tr>\n",
              "  </tbody>\n",
              "</table>\n",
              "</div>"
            ],
            "text/plain": [
              "   AREA  AREA NAME  Part 1-2  Crm Cd  \\\n",
              "0     1    Central         1     330   \n",
              "1     3  Southwest         1     480   \n",
              "2     9   Van Nuys         1     343   \n",
              "3     6  Hollywood         2     354   \n",
              "4    18  Southeast         2     354   \n",
              "\n",
              "                                Crm Cd Desc  Vict Age  Premis Cd  \\\n",
              "0                     BURGLARY FROM VEHICLE        47        128   \n",
              "1                             BIKE - STOLEN        19        502   \n",
              "2  SHOPLIFTING-GRAND THEFT ($950.01 & OVER)        19        405   \n",
              "3                         THEFT OF IDENTITY        28        102   \n",
              "4                         THEFT OF IDENTITY        41        501   \n",
              "\n",
              "                                    Premis Desc Status  Status Desc  \\\n",
              "0             BUS STOP/LAYOVER (ALSO QUERY 124)     IC  Invest Cont   \n",
              "1  MULTI-UNIT DWELLING (APARTMENT, DUPLEX, ETC)     IC  Invest Cont   \n",
              "2                                CLOTHING STORE     IC  Invest Cont   \n",
              "3                                      SIDEWALK     IC  Invest Cont   \n",
              "4                        SINGLE FAMILY DWELLING     IC  Invest Cont   \n",
              "\n",
              "                                   LOCATION      LAT       LON  \\\n",
              "0   1000 S  FLOWER                       ST  34.0444 -118.2628   \n",
              "1   1400 W  37TH                         ST  34.0210 -118.3002   \n",
              "2  14000    RIVERSIDE                    DR  34.1576 -118.4387   \n",
              "3                         1900    TRANSIENT  34.0944 -118.3277   \n",
              "4   9900    COMPTON                      AV  33.9467 -118.2463   \n",
              "\n",
              "                     Date  \n",
              "0  02/08/2020 12:00:00 AM  \n",
              "1  11/04/2020 12:00:00 AM  \n",
              "2  03/10/2020 12:00:00 AM  \n",
              "3  08/17/2020 12:00:00 AM  \n",
              "4  12/01/2020 12:00:00 AM  "
            ]
          },
          "execution_count": 3,
          "metadata": {},
          "output_type": "execute_result"
        }
      ],
      "source": [
        "# Displaying the first 5 rows of the data\n",
        "df_m.head()"
      ]
    },
    {
      "cell_type": "code",
      "execution_count": null,
      "metadata": {
        "id": "s_6O3gxZdrae",
        "outputId": "130ef39b-fbcd-4139-96b8-23cf66d60fe7"
      },
      "outputs": [
        {
          "data": {
            "text/plain": [
              "AREA           0\n",
              "AREA NAME      0\n",
              "Part 1-2       0\n",
              "Crm Cd         0\n",
              "Crm Cd Desc    0\n",
              "Vict Age       0\n",
              "Premis Cd      0\n",
              "Premis Desc    0\n",
              "Status         0\n",
              "Status Desc    0\n",
              "LOCATION       0\n",
              "LAT            0\n",
              "LON            0\n",
              "Date           0\n",
              "dtype: int64"
            ]
          },
          "execution_count": 4,
          "metadata": {},
          "output_type": "execute_result"
        }
      ],
      "source": [
        "# Checking for the Missing values in the data frame\n",
        "df_m.isnull().sum()"
      ]
    },
    {
      "cell_type": "code",
      "execution_count": null,
      "metadata": {
        "id": "ZVLoEMisdraf",
        "outputId": "61ca252b-41c4-403c-9c3f-34ff10524cc2"
      },
      "outputs": [
        {
          "name": "stdout",
          "output_type": "stream",
          "text": [
            "<class 'pandas.core.frame.DataFrame'>\n",
            "RangeIndex: 637416 entries, 0 to 637415\n",
            "Data columns (total 14 columns):\n",
            " #   Column       Non-Null Count   Dtype  \n",
            "---  ------       --------------   -----  \n",
            " 0   AREA         637416 non-null  int64  \n",
            " 1   AREA NAME    637416 non-null  object \n",
            " 2   Part 1-2     637416 non-null  int64  \n",
            " 3   Crm Cd       637416 non-null  int64  \n",
            " 4   Crm Cd Desc  637416 non-null  object \n",
            " 5   Vict Age     637416 non-null  int64  \n",
            " 6   Premis Cd    637416 non-null  int64  \n",
            " 7   Premis Desc  637416 non-null  object \n",
            " 8   Status       637416 non-null  object \n",
            " 9   Status Desc  637416 non-null  object \n",
            " 10  LOCATION     637416 non-null  object \n",
            " 11  LAT          637416 non-null  float64\n",
            " 12  LON          637416 non-null  float64\n",
            " 13  Date         637416 non-null  object \n",
            "dtypes: float64(2), int64(5), object(7)\n",
            "memory usage: 68.1+ MB\n"
          ]
        }
      ],
      "source": [
        "# Checking the Data types and non-null counts\n",
        "df_m.info()"
      ]
    },
    {
      "cell_type": "markdown",
      "metadata": {
        "id": "Jg_Jw8eKdraf"
      },
      "source": [
        "Summarizing The Statistics!!"
      ]
    },
    {
      "cell_type": "code",
      "execution_count": null,
      "metadata": {
        "id": "RAmepXFbdraf",
        "outputId": "fbc98874-5e63-487e-d813-c835dc267f0d"
      },
      "outputs": [
        {
          "data": {
            "text/html": [
              "<div>\n",
              "<style scoped>\n",
              "    .dataframe tbody tr th:only-of-type {\n",
              "        vertical-align: middle;\n",
              "    }\n",
              "\n",
              "    .dataframe tbody tr th {\n",
              "        vertical-align: top;\n",
              "    }\n",
              "\n",
              "    .dataframe thead th {\n",
              "        text-align: right;\n",
              "    }\n",
              "</style>\n",
              "<table border=\"1\" class=\"dataframe\">\n",
              "  <thead>\n",
              "    <tr style=\"text-align: right;\">\n",
              "      <th></th>\n",
              "      <th>AREA</th>\n",
              "      <th>Part 1-2</th>\n",
              "      <th>Crm Cd</th>\n",
              "      <th>Vict Age</th>\n",
              "      <th>Premis Cd</th>\n",
              "      <th>LAT</th>\n",
              "      <th>LON</th>\n",
              "    </tr>\n",
              "  </thead>\n",
              "  <tbody>\n",
              "    <tr>\n",
              "      <th>count</th>\n",
              "      <td>637416.000000</td>\n",
              "      <td>637416.000000</td>\n",
              "      <td>637416.000000</td>\n",
              "      <td>637416.000000</td>\n",
              "      <td>637416.000000</td>\n",
              "      <td>637416.000000</td>\n",
              "      <td>637416.000000</td>\n",
              "    </tr>\n",
              "    <tr>\n",
              "      <th>mean</th>\n",
              "      <td>10.645470</td>\n",
              "      <td>1.476731</td>\n",
              "      <td>496.472305</td>\n",
              "      <td>40.208782</td>\n",
              "      <td>331.978981</td>\n",
              "      <td>33.987633</td>\n",
              "      <td>-118.051592</td>\n",
              "    </tr>\n",
              "    <tr>\n",
              "      <th>std</th>\n",
              "      <td>6.172346</td>\n",
              "      <td>0.499459</td>\n",
              "      <td>220.178737</td>\n",
              "      <td>14.156772</td>\n",
              "      <td>216.048206</td>\n",
              "      <td>1.730177</td>\n",
              "      <td>5.998481</td>\n",
              "    </tr>\n",
              "    <tr>\n",
              "      <th>min</th>\n",
              "      <td>1.000000</td>\n",
              "      <td>1.000000</td>\n",
              "      <td>110.000000</td>\n",
              "      <td>19.000000</td>\n",
              "      <td>101.000000</td>\n",
              "      <td>0.000000</td>\n",
              "      <td>-118.667600</td>\n",
              "    </tr>\n",
              "    <tr>\n",
              "      <th>25%</th>\n",
              "      <td>5.000000</td>\n",
              "      <td>1.000000</td>\n",
              "      <td>330.000000</td>\n",
              "      <td>29.000000</td>\n",
              "      <td>104.000000</td>\n",
              "      <td>34.016100</td>\n",
              "      <td>-118.432300</td>\n",
              "    </tr>\n",
              "    <tr>\n",
              "      <th>50%</th>\n",
              "      <td>11.000000</td>\n",
              "      <td>1.000000</td>\n",
              "      <td>440.000000</td>\n",
              "      <td>37.000000</td>\n",
              "      <td>403.000000</td>\n",
              "      <td>34.059000</td>\n",
              "      <td>-118.324600</td>\n",
              "    </tr>\n",
              "    <tr>\n",
              "      <th>75%</th>\n",
              "      <td>16.000000</td>\n",
              "      <td>2.000000</td>\n",
              "      <td>626.000000</td>\n",
              "      <td>50.000000</td>\n",
              "      <td>502.000000</td>\n",
              "      <td>34.164900</td>\n",
              "      <td>-118.274900</td>\n",
              "    </tr>\n",
              "    <tr>\n",
              "      <th>max</th>\n",
              "      <td>21.000000</td>\n",
              "      <td>2.000000</td>\n",
              "      <td>956.000000</td>\n",
              "      <td>79.000000</td>\n",
              "      <td>971.000000</td>\n",
              "      <td>34.334300</td>\n",
              "      <td>0.000000</td>\n",
              "    </tr>\n",
              "  </tbody>\n",
              "</table>\n",
              "</div>"
            ],
            "text/plain": [
              "                AREA       Part 1-2         Crm Cd       Vict Age  \\\n",
              "count  637416.000000  637416.000000  637416.000000  637416.000000   \n",
              "mean       10.645470       1.476731     496.472305      40.208782   \n",
              "std         6.172346       0.499459     220.178737      14.156772   \n",
              "min         1.000000       1.000000     110.000000      19.000000   \n",
              "25%         5.000000       1.000000     330.000000      29.000000   \n",
              "50%        11.000000       1.000000     440.000000      37.000000   \n",
              "75%        16.000000       2.000000     626.000000      50.000000   \n",
              "max        21.000000       2.000000     956.000000      79.000000   \n",
              "\n",
              "           Premis Cd            LAT            LON  \n",
              "count  637416.000000  637416.000000  637416.000000  \n",
              "mean      331.978981      33.987633    -118.051592  \n",
              "std       216.048206       1.730177       5.998481  \n",
              "min       101.000000       0.000000    -118.667600  \n",
              "25%       104.000000      34.016100    -118.432300  \n",
              "50%       403.000000      34.059000    -118.324600  \n",
              "75%       502.000000      34.164900    -118.274900  \n",
              "max       971.000000      34.334300       0.000000  "
            ]
          },
          "execution_count": 6,
          "metadata": {},
          "output_type": "execute_result"
        }
      ],
      "source": [
        "# Getting Summary Statistics for Numerical Columns\n",
        "df_m.describe()"
      ]
    },
    {
      "cell_type": "code",
      "execution_count": null,
      "metadata": {
        "id": "boWYarSGdraf",
        "outputId": "e4bd4c24-799f-41da-d296-db63554debf7"
      },
      "outputs": [
        {
          "data": {
            "text/plain": [
              "AREA NAME\n",
              "Central        46853\n",
              "Southwest      40051\n",
              "77th Street    39485\n",
              "Pacific        36354\n",
              "Hollywood      34945\n",
              "Olympic        31642\n",
              "Southeast      31640\n",
              "Wilshire       31398\n",
              "N Hollywood    31119\n",
              "Topanga        29542\n",
              "Newton         29382\n",
              "Rampart        29250\n",
              "West LA        29051\n",
              "Van Nuys       28936\n",
              "West Valley    26361\n",
              "Northeast      25800\n",
              "Mission        25376\n",
              "Devonshire     24497\n",
              "Harbor         23683\n",
              "Hollenbeck     21142\n",
              "Foothill       20909\n",
              "Name: count, dtype: int64"
            ]
          },
          "execution_count": 7,
          "metadata": {},
          "output_type": "execute_result"
        }
      ],
      "source": [
        "# Checking value counts for Categorical columns\n",
        "df_m['AREA NAME'].value_counts()"
      ]
    },
    {
      "cell_type": "markdown",
      "metadata": {
        "id": "bhwxoKrfdraf"
      },
      "source": [
        "Data Cleaning!"
      ]
    },
    {
      "cell_type": "code",
      "execution_count": null,
      "metadata": {
        "id": "oybINVgldrag",
        "outputId": "8322cdee-b364-410b-e6a0-1429ff8325bf"
      },
      "outputs": [
        {
          "ename": "KeyError",
          "evalue": "\"['Cross Street'] not found in axis\"",
          "output_type": "error",
          "traceback": [
            "\u001b[1;31m---------------------------------------------------------------------------\u001b[0m",
            "\u001b[1;31mKeyError\u001b[0m                                  Traceback (most recent call last)",
            "Cell \u001b[1;32mIn[8], line 1\u001b[0m\n\u001b[1;32m----> 1\u001b[0m \u001b[43mdf_m\u001b[49m\u001b[38;5;241;43m.\u001b[39;49m\u001b[43mdrop\u001b[49m\u001b[43m(\u001b[49m\u001b[38;5;124;43m'\u001b[39;49m\u001b[38;5;124;43mCross Street\u001b[39;49m\u001b[38;5;124;43m'\u001b[39;49m\u001b[43m,\u001b[49m\u001b[43m \u001b[49m\u001b[43maxis\u001b[49m\u001b[38;5;241;43m=\u001b[39;49m\u001b[38;5;241;43m1\u001b[39;49m\u001b[43m,\u001b[49m\u001b[43m \u001b[49m\u001b[43minplace\u001b[49m\u001b[38;5;241;43m=\u001b[39;49m\u001b[38;5;28;43;01mTrue\u001b[39;49;00m\u001b[43m)\u001b[49m\n",
            "File \u001b[1;32mc:\\Users\\Talha\\AppData\\Local\\Programs\\Python\\Python311\\Lib\\site-packages\\pandas\\core\\frame.py:5344\u001b[0m, in \u001b[0;36mDataFrame.drop\u001b[1;34m(self, labels, axis, index, columns, level, inplace, errors)\u001b[0m\n\u001b[0;32m   5196\u001b[0m \u001b[38;5;28;01mdef\u001b[39;00m \u001b[38;5;21mdrop\u001b[39m(\n\u001b[0;32m   5197\u001b[0m     \u001b[38;5;28mself\u001b[39m,\n\u001b[0;32m   5198\u001b[0m     labels: IndexLabel \u001b[38;5;241m|\u001b[39m \u001b[38;5;28;01mNone\u001b[39;00m \u001b[38;5;241m=\u001b[39m \u001b[38;5;28;01mNone\u001b[39;00m,\n\u001b[1;32m   (...)\u001b[0m\n\u001b[0;32m   5205\u001b[0m     errors: IgnoreRaise \u001b[38;5;241m=\u001b[39m \u001b[38;5;124m\"\u001b[39m\u001b[38;5;124mraise\u001b[39m\u001b[38;5;124m\"\u001b[39m,\n\u001b[0;32m   5206\u001b[0m ) \u001b[38;5;241m-\u001b[39m\u001b[38;5;241m>\u001b[39m DataFrame \u001b[38;5;241m|\u001b[39m \u001b[38;5;28;01mNone\u001b[39;00m:\n\u001b[0;32m   5207\u001b[0m \u001b[38;5;250m    \u001b[39m\u001b[38;5;124;03m\"\"\"\u001b[39;00m\n\u001b[0;32m   5208\u001b[0m \u001b[38;5;124;03m    Drop specified labels from rows or columns.\u001b[39;00m\n\u001b[0;32m   5209\u001b[0m \n\u001b[1;32m   (...)\u001b[0m\n\u001b[0;32m   5342\u001b[0m \u001b[38;5;124;03m            weight  1.0     0.8\u001b[39;00m\n\u001b[0;32m   5343\u001b[0m \u001b[38;5;124;03m    \"\"\"\u001b[39;00m\n\u001b[1;32m-> 5344\u001b[0m     \u001b[38;5;28;01mreturn\u001b[39;00m \u001b[38;5;28;43msuper\u001b[39;49m\u001b[43m(\u001b[49m\u001b[43m)\u001b[49m\u001b[38;5;241;43m.\u001b[39;49m\u001b[43mdrop\u001b[49m\u001b[43m(\u001b[49m\n\u001b[0;32m   5345\u001b[0m \u001b[43m        \u001b[49m\u001b[43mlabels\u001b[49m\u001b[38;5;241;43m=\u001b[39;49m\u001b[43mlabels\u001b[49m\u001b[43m,\u001b[49m\n\u001b[0;32m   5346\u001b[0m \u001b[43m        \u001b[49m\u001b[43maxis\u001b[49m\u001b[38;5;241;43m=\u001b[39;49m\u001b[43maxis\u001b[49m\u001b[43m,\u001b[49m\n\u001b[0;32m   5347\u001b[0m \u001b[43m        \u001b[49m\u001b[43mindex\u001b[49m\u001b[38;5;241;43m=\u001b[39;49m\u001b[43mindex\u001b[49m\u001b[43m,\u001b[49m\n\u001b[0;32m   5348\u001b[0m \u001b[43m        \u001b[49m\u001b[43mcolumns\u001b[49m\u001b[38;5;241;43m=\u001b[39;49m\u001b[43mcolumns\u001b[49m\u001b[43m,\u001b[49m\n\u001b[0;32m   5349\u001b[0m \u001b[43m        \u001b[49m\u001b[43mlevel\u001b[49m\u001b[38;5;241;43m=\u001b[39;49m\u001b[43mlevel\u001b[49m\u001b[43m,\u001b[49m\n\u001b[0;32m   5350\u001b[0m \u001b[43m        \u001b[49m\u001b[43minplace\u001b[49m\u001b[38;5;241;43m=\u001b[39;49m\u001b[43minplace\u001b[49m\u001b[43m,\u001b[49m\n\u001b[0;32m   5351\u001b[0m \u001b[43m        \u001b[49m\u001b[43merrors\u001b[49m\u001b[38;5;241;43m=\u001b[39;49m\u001b[43merrors\u001b[49m\u001b[43m,\u001b[49m\n\u001b[0;32m   5352\u001b[0m \u001b[43m    \u001b[49m\u001b[43m)\u001b[49m\n",
            "File \u001b[1;32mc:\\Users\\Talha\\AppData\\Local\\Programs\\Python\\Python311\\Lib\\site-packages\\pandas\\core\\generic.py:4711\u001b[0m, in \u001b[0;36mNDFrame.drop\u001b[1;34m(self, labels, axis, index, columns, level, inplace, errors)\u001b[0m\n\u001b[0;32m   4709\u001b[0m \u001b[38;5;28;01mfor\u001b[39;00m axis, labels \u001b[38;5;129;01min\u001b[39;00m axes\u001b[38;5;241m.\u001b[39mitems():\n\u001b[0;32m   4710\u001b[0m     \u001b[38;5;28;01mif\u001b[39;00m labels \u001b[38;5;129;01mis\u001b[39;00m \u001b[38;5;129;01mnot\u001b[39;00m \u001b[38;5;28;01mNone\u001b[39;00m:\n\u001b[1;32m-> 4711\u001b[0m         obj \u001b[38;5;241m=\u001b[39m \u001b[43mobj\u001b[49m\u001b[38;5;241;43m.\u001b[39;49m\u001b[43m_drop_axis\u001b[49m\u001b[43m(\u001b[49m\u001b[43mlabels\u001b[49m\u001b[43m,\u001b[49m\u001b[43m \u001b[49m\u001b[43maxis\u001b[49m\u001b[43m,\u001b[49m\u001b[43m \u001b[49m\u001b[43mlevel\u001b[49m\u001b[38;5;241;43m=\u001b[39;49m\u001b[43mlevel\u001b[49m\u001b[43m,\u001b[49m\u001b[43m \u001b[49m\u001b[43merrors\u001b[49m\u001b[38;5;241;43m=\u001b[39;49m\u001b[43merrors\u001b[49m\u001b[43m)\u001b[49m\n\u001b[0;32m   4713\u001b[0m \u001b[38;5;28;01mif\u001b[39;00m inplace:\n\u001b[0;32m   4714\u001b[0m     \u001b[38;5;28mself\u001b[39m\u001b[38;5;241m.\u001b[39m_update_inplace(obj)\n",
            "File \u001b[1;32mc:\\Users\\Talha\\AppData\\Local\\Programs\\Python\\Python311\\Lib\\site-packages\\pandas\\core\\generic.py:4753\u001b[0m, in \u001b[0;36mNDFrame._drop_axis\u001b[1;34m(self, labels, axis, level, errors, only_slice)\u001b[0m\n\u001b[0;32m   4751\u001b[0m         new_axis \u001b[38;5;241m=\u001b[39m axis\u001b[38;5;241m.\u001b[39mdrop(labels, level\u001b[38;5;241m=\u001b[39mlevel, errors\u001b[38;5;241m=\u001b[39merrors)\n\u001b[0;32m   4752\u001b[0m     \u001b[38;5;28;01melse\u001b[39;00m:\n\u001b[1;32m-> 4753\u001b[0m         new_axis \u001b[38;5;241m=\u001b[39m \u001b[43maxis\u001b[49m\u001b[38;5;241;43m.\u001b[39;49m\u001b[43mdrop\u001b[49m\u001b[43m(\u001b[49m\u001b[43mlabels\u001b[49m\u001b[43m,\u001b[49m\u001b[43m \u001b[49m\u001b[43merrors\u001b[49m\u001b[38;5;241;43m=\u001b[39;49m\u001b[43merrors\u001b[49m\u001b[43m)\u001b[49m\n\u001b[0;32m   4754\u001b[0m     indexer \u001b[38;5;241m=\u001b[39m axis\u001b[38;5;241m.\u001b[39mget_indexer(new_axis)\n\u001b[0;32m   4756\u001b[0m \u001b[38;5;66;03m# Case for non-unique axis\u001b[39;00m\n\u001b[0;32m   4757\u001b[0m \u001b[38;5;28;01melse\u001b[39;00m:\n",
            "File \u001b[1;32mc:\\Users\\Talha\\AppData\\Local\\Programs\\Python\\Python311\\Lib\\site-packages\\pandas\\core\\indexes\\base.py:6992\u001b[0m, in \u001b[0;36mIndex.drop\u001b[1;34m(self, labels, errors)\u001b[0m\n\u001b[0;32m   6990\u001b[0m \u001b[38;5;28;01mif\u001b[39;00m mask\u001b[38;5;241m.\u001b[39many():\n\u001b[0;32m   6991\u001b[0m     \u001b[38;5;28;01mif\u001b[39;00m errors \u001b[38;5;241m!=\u001b[39m \u001b[38;5;124m\"\u001b[39m\u001b[38;5;124mignore\u001b[39m\u001b[38;5;124m\"\u001b[39m:\n\u001b[1;32m-> 6992\u001b[0m         \u001b[38;5;28;01mraise\u001b[39;00m \u001b[38;5;167;01mKeyError\u001b[39;00m(\u001b[38;5;124mf\u001b[39m\u001b[38;5;124m\"\u001b[39m\u001b[38;5;132;01m{\u001b[39;00mlabels[mask]\u001b[38;5;241m.\u001b[39mtolist()\u001b[38;5;132;01m}\u001b[39;00m\u001b[38;5;124m not found in axis\u001b[39m\u001b[38;5;124m\"\u001b[39m)\n\u001b[0;32m   6993\u001b[0m     indexer \u001b[38;5;241m=\u001b[39m indexer[\u001b[38;5;241m~\u001b[39mmask]\n\u001b[0;32m   6994\u001b[0m \u001b[38;5;28;01mreturn\u001b[39;00m \u001b[38;5;28mself\u001b[39m\u001b[38;5;241m.\u001b[39mdelete(indexer)\n",
            "\u001b[1;31mKeyError\u001b[0m: \"['Cross Street'] not found in axis\""
          ]
        }
      ],
      "source": [
        "df_m.drop('Cross Street', axis=1, inplace=True)\n",
        "# If it gives the error That the (axis not found ignore it)"
      ]
    },
    {
      "cell_type": "code",
      "execution_count": null,
      "metadata": {
        "id": "PPf8hBFHdrag"
      },
      "outputs": [],
      "source": [
        "# Filling missing Rows With a Specified value, (hear i use the median value)\n",
        "df_m['Premis Cd'].fillna(value=203, inplace=True)"
      ]
    },
    {
      "cell_type": "code",
      "execution_count": null,
      "metadata": {
        "id": "T7YRAxJ5drag"
      },
      "outputs": [],
      "source": [
        "df_m['Premis Desc'].dropna(inplace=True)"
      ]
    },
    {
      "cell_type": "code",
      "execution_count": null,
      "metadata": {
        "id": "lrrx4TACdrag",
        "outputId": "c78dcbb9-e9fa-4bf3-cff4-c363f29e4a1f",
        "colab": {
          "base_uri": "https://localhost:8080/"
        }
      },
      "outputs": [
        {
          "output_type": "execute_result",
          "data": {
            "text/plain": [
              "AREA           0\n",
              "AREA NAME      0\n",
              "Part 1-2       1\n",
              "Crm Cd         1\n",
              "Crm Cd Desc    1\n",
              "Vict Age       1\n",
              "Premis Cd      0\n",
              "Premis Desc    1\n",
              "Status         1\n",
              "Status Desc    1\n",
              "LOCATION       1\n",
              "LAT            1\n",
              "LON            1\n",
              "Date           1\n",
              "dtype: int64"
            ]
          },
          "metadata": {},
          "execution_count": 6
        }
      ],
      "source": [
        "df_m.isnull().sum()"
      ]
    },
    {
      "cell_type": "code",
      "execution_count": null,
      "metadata": {
        "id": "VqgOPoUHdrag"
      },
      "outputs": [],
      "source": [
        "\"\"\"Identify and Replace Non-Null Placeholder Values:\n",
        "First, identify if there are any non-null placeholder values in the 'Premis Desc'\n",
        "column that are not recognized as missing values. These might include empty strings,\n",
        "\"N/A\" strings, or other placeholders.\"\"\"\n",
        "\n",
        "placeholder_values = ['N/A', 'NA', 'Not Available', 'Unknown', '']\n",
        "df_m['Premis Desc'] = df_m['Premis Desc'].replace(placeholder_values, pd.NA)\n",
        "\n",
        "# Then  i will do the approach again!!\n",
        "df_m.dropna(subset=['Premis Desc'], inplace=True)"
      ]
    },
    {
      "cell_type": "code",
      "source": [
        "df_m.dropna(subset=['LOCATION'], inplace=True)\n",
        "df_m.dropna(subset=['LAT'], inplace=True)\n",
        "df_m.dropna(subset=['LON'], inplace=True)"
      ],
      "metadata": {
        "id": "Cn09AD8l8EXt"
      },
      "execution_count": null,
      "outputs": []
    },
    {
      "cell_type": "code",
      "execution_count": null,
      "metadata": {
        "id": "tHN9yzIDdrag",
        "outputId": "7e428bdb-14e3-462c-ee24-fa39fd4a5d29",
        "colab": {
          "base_uri": "https://localhost:8080/"
        }
      },
      "outputs": [
        {
          "output_type": "execute_result",
          "data": {
            "text/plain": [
              "AREA           0\n",
              "AREA NAME      0\n",
              "Part 1-2       0\n",
              "Crm Cd         0\n",
              "Crm Cd Desc    0\n",
              "Vict Age       0\n",
              "Premis Cd      0\n",
              "Premis Desc    0\n",
              "Status         0\n",
              "Status Desc    0\n",
              "LOCATION       0\n",
              "LAT            0\n",
              "LON            0\n",
              "Date           0\n",
              "dtype: int64"
            ]
          },
          "metadata": {},
          "execution_count": 9
        }
      ],
      "source": [
        "df_m.isnull().sum()\n",
        "# ANd IT's working!!"
      ]
    },
    {
      "cell_type": "code",
      "execution_count": null,
      "metadata": {
        "id": "jR7ZYrapdrah"
      },
      "outputs": [],
      "source": [
        "# Converting the datatype of a column from float to int\n",
        "df_m['Premis Cd'] = df_m['Premis Cd'].astype(int)"
      ]
    },
    {
      "cell_type": "code",
      "execution_count": null,
      "metadata": {
        "id": "71ITIAI7drah",
        "outputId": "2b5b14e0-422b-46c8-ddd5-686bf9a485b7"
      },
      "outputs": [
        {
          "data": {
            "text/html": [
              "<div>\n",
              "<style scoped>\n",
              "    .dataframe tbody tr th:only-of-type {\n",
              "        vertical-align: middle;\n",
              "    }\n",
              "\n",
              "    .dataframe tbody tr th {\n",
              "        vertical-align: top;\n",
              "    }\n",
              "\n",
              "    .dataframe thead th {\n",
              "        text-align: right;\n",
              "    }\n",
              "</style>\n",
              "<table border=\"1\" class=\"dataframe\">\n",
              "  <thead>\n",
              "    <tr style=\"text-align: right;\">\n",
              "      <th></th>\n",
              "      <th>AREA</th>\n",
              "      <th>AREA NAME</th>\n",
              "      <th>Part 1-2</th>\n",
              "      <th>Crm Cd</th>\n",
              "      <th>Crm Cd Desc</th>\n",
              "      <th>Vict Age</th>\n",
              "      <th>Premis Cd</th>\n",
              "      <th>Premis Desc</th>\n",
              "      <th>Status</th>\n",
              "      <th>Status Desc</th>\n",
              "      <th>LOCATION</th>\n",
              "      <th>LAT</th>\n",
              "      <th>LON</th>\n",
              "      <th>Date</th>\n",
              "    </tr>\n",
              "  </thead>\n",
              "  <tbody>\n",
              "    <tr>\n",
              "      <th>0</th>\n",
              "      <td>1</td>\n",
              "      <td>Central</td>\n",
              "      <td>1</td>\n",
              "      <td>330</td>\n",
              "      <td>BURGLARY FROM VEHICLE</td>\n",
              "      <td>47</td>\n",
              "      <td>128</td>\n",
              "      <td>BUS STOP/LAYOVER (ALSO QUERY 124)</td>\n",
              "      <td>IC</td>\n",
              "      <td>Invest Cont</td>\n",
              "      <td>1000 S  FLOWER                       ST</td>\n",
              "      <td>34.0444</td>\n",
              "      <td>-118.2628</td>\n",
              "      <td>02/08/2020 12:00:00 AM</td>\n",
              "    </tr>\n",
              "    <tr>\n",
              "      <th>1</th>\n",
              "      <td>3</td>\n",
              "      <td>Southwest</td>\n",
              "      <td>1</td>\n",
              "      <td>480</td>\n",
              "      <td>BIKE - STOLEN</td>\n",
              "      <td>19</td>\n",
              "      <td>502</td>\n",
              "      <td>MULTI-UNIT DWELLING (APARTMENT, DUPLEX, ETC)</td>\n",
              "      <td>IC</td>\n",
              "      <td>Invest Cont</td>\n",
              "      <td>1400 W  37TH                         ST</td>\n",
              "      <td>34.0210</td>\n",
              "      <td>-118.3002</td>\n",
              "      <td>11/04/2020 12:00:00 AM</td>\n",
              "    </tr>\n",
              "    <tr>\n",
              "      <th>2</th>\n",
              "      <td>9</td>\n",
              "      <td>Van Nuys</td>\n",
              "      <td>1</td>\n",
              "      <td>343</td>\n",
              "      <td>SHOPLIFTING-GRAND THEFT ($950.01 &amp; OVER)</td>\n",
              "      <td>19</td>\n",
              "      <td>405</td>\n",
              "      <td>CLOTHING STORE</td>\n",
              "      <td>IC</td>\n",
              "      <td>Invest Cont</td>\n",
              "      <td>14000    RIVERSIDE                    DR</td>\n",
              "      <td>34.1576</td>\n",
              "      <td>-118.4387</td>\n",
              "      <td>03/10/2020 12:00:00 AM</td>\n",
              "    </tr>\n",
              "    <tr>\n",
              "      <th>3</th>\n",
              "      <td>6</td>\n",
              "      <td>Hollywood</td>\n",
              "      <td>2</td>\n",
              "      <td>354</td>\n",
              "      <td>THEFT OF IDENTITY</td>\n",
              "      <td>28</td>\n",
              "      <td>102</td>\n",
              "      <td>SIDEWALK</td>\n",
              "      <td>IC</td>\n",
              "      <td>Invest Cont</td>\n",
              "      <td>1900    TRANSIENT</td>\n",
              "      <td>34.0944</td>\n",
              "      <td>-118.3277</td>\n",
              "      <td>08/17/2020 12:00:00 AM</td>\n",
              "    </tr>\n",
              "    <tr>\n",
              "      <th>4</th>\n",
              "      <td>18</td>\n",
              "      <td>Southeast</td>\n",
              "      <td>2</td>\n",
              "      <td>354</td>\n",
              "      <td>THEFT OF IDENTITY</td>\n",
              "      <td>41</td>\n",
              "      <td>501</td>\n",
              "      <td>SINGLE FAMILY DWELLING</td>\n",
              "      <td>IC</td>\n",
              "      <td>Invest Cont</td>\n",
              "      <td>9900    COMPTON                      AV</td>\n",
              "      <td>33.9467</td>\n",
              "      <td>-118.2463</td>\n",
              "      <td>12/01/2020 12:00:00 AM</td>\n",
              "    </tr>\n",
              "  </tbody>\n",
              "</table>\n",
              "</div>"
            ],
            "text/plain": [
              "   AREA  AREA NAME  Part 1-2  Crm Cd  \\\n",
              "0     1    Central         1     330   \n",
              "1     3  Southwest         1     480   \n",
              "2     9   Van Nuys         1     343   \n",
              "3     6  Hollywood         2     354   \n",
              "4    18  Southeast         2     354   \n",
              "\n",
              "                                Crm Cd Desc  Vict Age  Premis Cd  \\\n",
              "0                     BURGLARY FROM VEHICLE        47        128   \n",
              "1                             BIKE - STOLEN        19        502   \n",
              "2  SHOPLIFTING-GRAND THEFT ($950.01 & OVER)        19        405   \n",
              "3                         THEFT OF IDENTITY        28        102   \n",
              "4                         THEFT OF IDENTITY        41        501   \n",
              "\n",
              "                                    Premis Desc Status  Status Desc  \\\n",
              "0             BUS STOP/LAYOVER (ALSO QUERY 124)     IC  Invest Cont   \n",
              "1  MULTI-UNIT DWELLING (APARTMENT, DUPLEX, ETC)     IC  Invest Cont   \n",
              "2                                CLOTHING STORE     IC  Invest Cont   \n",
              "3                                      SIDEWALK     IC  Invest Cont   \n",
              "4                        SINGLE FAMILY DWELLING     IC  Invest Cont   \n",
              "\n",
              "                                   LOCATION      LAT       LON  \\\n",
              "0   1000 S  FLOWER                       ST  34.0444 -118.2628   \n",
              "1   1400 W  37TH                         ST  34.0210 -118.3002   \n",
              "2  14000    RIVERSIDE                    DR  34.1576 -118.4387   \n",
              "3                         1900    TRANSIENT  34.0944 -118.3277   \n",
              "4   9900    COMPTON                      AV  33.9467 -118.2463   \n",
              "\n",
              "                     Date  \n",
              "0  02/08/2020 12:00:00 AM  \n",
              "1  11/04/2020 12:00:00 AM  \n",
              "2  03/10/2020 12:00:00 AM  \n",
              "3  08/17/2020 12:00:00 AM  \n",
              "4  12/01/2020 12:00:00 AM  "
            ]
          },
          "execution_count": 15,
          "metadata": {},
          "output_type": "execute_result"
        }
      ],
      "source": [
        "df_m.head()"
      ]
    },
    {
      "cell_type": "code",
      "source": [
        "# Converting Date Column into Datetime formate\n",
        "df_m['Date'] = pd.to_datetime(df_m['Date'])"
      ],
      "metadata": {
        "id": "2xYLCMrljwoJ"
      },
      "execution_count": null,
      "outputs": []
    },
    {
      "cell_type": "code",
      "execution_count": null,
      "metadata": {
        "id": "j3WYEVhDdrah"
      },
      "outputs": [],
      "source": [
        "# As we see we have a lot of zeros within the column so we will remove it,\n",
        "df_m.drop(df_m[df_m['Vict Age'] == 0].index, inplace=True)"
      ]
    },
    {
      "cell_type": "code",
      "execution_count": null,
      "metadata": {
        "id": "YgGJqbqzdrah",
        "outputId": "c6bc50ce-d4c3-4dfd-c584-9b6dbde7f4a5",
        "colab": {
          "base_uri": "https://localhost:8080/"
        }
      },
      "outputs": [
        {
          "output_type": "execute_result",
          "data": {
            "text/plain": [
              "0"
            ]
          },
          "metadata": {},
          "execution_count": 12
        }
      ],
      "source": [
        "(df_m['Vict Age'] == 0).sum()"
      ]
    },
    {
      "cell_type": "code",
      "execution_count": null,
      "metadata": {
        "id": "Pa6guQxydrai"
      },
      "outputs": [],
      "source": [
        "import numpy as np"
      ]
    },
    {
      "cell_type": "code",
      "execution_count": null,
      "metadata": {
        "id": "Q_qtUyjydrai"
      },
      "outputs": [],
      "source": [
        "# I will set an (80 age MAX) and (18 for min)\n",
        "df_m.drop(df_m[df_m['Vict Age'] >= 80].index, inplace=True)\n",
        "df_m.drop(df_m[df_m['Vict Age'] <= 18].index, inplace=True)\n"
      ]
    },
    {
      "cell_type": "code",
      "execution_count": null,
      "metadata": {
        "id": "QKRj_Js_drai",
        "outputId": "64abd3a4-b7ce-4b29-9cf4-fef527ea326d"
      },
      "outputs": [
        {
          "data": {
            "text/plain": [
              "79"
            ]
          },
          "execution_count": 22,
          "metadata": {},
          "output_type": "execute_result"
        }
      ],
      "source": [
        "df_m['Vict Age'].max()"
      ]
    },
    {
      "cell_type": "code",
      "execution_count": null,
      "metadata": {
        "id": "5NMOvIxudraj",
        "outputId": "ff1a0c4a-351c-42d5-ab4a-b26eed7e9597"
      },
      "outputs": [
        {
          "data": {
            "text/plain": [
              "19"
            ]
          },
          "execution_count": 23,
          "metadata": {},
          "output_type": "execute_result"
        }
      ],
      "source": [
        "df_m['Vict Age'].min()"
      ]
    },
    {
      "cell_type": "code",
      "source": [
        "df_m['Crm Cd Desc']"
      ],
      "metadata": {
        "colab": {
          "base_uri": "https://localhost:8080/"
        },
        "id": "HLVjxdxWXMOF",
        "outputId": "92d842b3-44f3-46c3-8a24-f5349f77226a"
      },
      "execution_count": null,
      "outputs": [
        {
          "output_type": "execute_result",
          "data": {
            "text/plain": [
              "0                                    BURGLARY FROM VEHICLE\n",
              "1                                            BIKE - STOLEN\n",
              "2                 SHOPLIFTING-GRAND THEFT ($950.01 & OVER)\n",
              "3                                        THEFT OF IDENTITY\n",
              "4                                        THEFT OF IDENTITY\n",
              "                               ...                        \n",
              "67729                   THEFT PLAIN - PETTY ($950 & UNDER)\n",
              "67730                                             BURGLARY\n",
              "67731    THEFT FROM MOTOR VEHICLE - GRAND ($950.01 AND ...\n",
              "67732                    INTIMATE PARTNER - SIMPLE ASSAULT\n",
              "67733             VANDALISM - MISDEAMEANOR ($399 OR UNDER)\n",
              "Name: Crm Cd Desc, Length: 67734, dtype: object"
            ]
          },
          "metadata": {},
          "execution_count": 60
        }
      ]
    },
    {
      "cell_type": "markdown",
      "metadata": {
        "id": "SyZKiqfXdraj"
      },
      "source": [
        "Visualization Part!!!"
      ]
    },
    {
      "cell_type": "code",
      "execution_count": null,
      "metadata": {
        "id": "jWYBrLf3dra3"
      },
      "outputs": [],
      "source": [
        "# wE WILL visualize the data Using Seaborn and matplotlib\n",
        "import seaborn as sns\n",
        "import matplotlib.pyplot as plt\n",
        "import warnings\n",
        "warnings.filterwarnings('ignore')"
      ]
    },
    {
      "cell_type": "code",
      "source": [
        "# Firstly Visualizing the Top crime Types!\n",
        "plt.figure(figsize=(15, 7))\n",
        "sns.countplot(x='Crm Cd Desc', data=df_m, order=df_m['Crm Cd Desc'].value_counts().index[:10])\n",
        "plt.title('Top 10 Crime Types')\n",
        "plt.xticks(rotation=45, ha='right')"
      ],
      "metadata": {
        "colab": {
          "base_uri": "https://localhost:8080/",
          "height": 1000
        },
        "id": "9nWUtolyWErH",
        "outputId": "5c3a1bb7-a025-407b-ab36-f8781767611f"
      },
      "execution_count": null,
      "outputs": [
        {
          "output_type": "execute_result",
          "data": {
            "text/plain": [
              "([0, 1, 2, 3, 4, 5, 6, 7, 8, 9],\n",
              " [Text(0, 0, 'BATTERY - SIMPLE ASSAULT'),\n",
              "  Text(1, 0, 'BURGLARY FROM VEHICLE'),\n",
              "  Text(2, 0, 'INTIMATE PARTNER - SIMPLE ASSAULT'),\n",
              "  Text(3, 0, 'ASSAULT WITH DEADLY WEAPON, AGGRAVATED ASSAULT'),\n",
              "  Text(4, 0, 'THEFT OF IDENTITY'),\n",
              "  Text(5, 0, 'VANDALISM - FELONY ($400 & OVER, ALL CHURCH VANDALISMS)'),\n",
              "  Text(6, 0, 'THEFT PLAIN - PETTY ($950 & UNDER)'),\n",
              "  Text(7, 0, 'BURGLARY'),\n",
              "  Text(8, 0, 'ROBBERY'),\n",
              "  Text(9, 0, 'VANDALISM - MISDEAMEANOR ($399 OR UNDER)')])"
            ]
          },
          "metadata": {},
          "execution_count": 62
        },
        {
          "output_type": "display_data",
          "data": {
            "text/plain": [
              "<Figure size 1500x700 with 1 Axes>"
            ],
            "image/png": "[encoded data removed]"
          },
          "metadata": {}
        }
      ]
    },
    {
      "cell_type": "code",
      "source": [
        "# Extracting month and year from the date column\n",
        "df_m['month'] = df_m['Date'].dt.month\n",
        "df_m['year'] = df_m['Date'].dt.year\n",
        "\n",
        "# Plotting the crime trends over time---->>>\n",
        "plt.figure(figsize=(15, 6))\n",
        "sns.countplot(x='month', hue='year', data=df_m)\n",
        "plt.title('Crime Trends by Month')\n",
        "plt.xlabel('Month')\n",
        "plt.ylabel('Count')\n",
        "plt.legend(title='year', bbox_to_anchor=(1.05, 1), loc='upper left')"
      ],
      "metadata": {
        "colab": {
          "base_uri": "https://localhost:8080/",
          "height": 521
        },
        "id": "P-gqwrKmZDIE",
        "outputId": "36e9ec7c-ebeb-4ff3-c9b2-933eab61d5b5"
      },
      "execution_count": null,
      "outputs": [
        {
          "output_type": "execute_result",
          "data": {
            "text/plain": [
              "<matplotlib.legend.Legend at 0x7b5679864730>"
            ]
          },
          "metadata": {},
          "execution_count": 66
        },
        {
          "output_type": "display_data",
          "data": {
            "text/plain": [
              "<Figure size 1500x600 with 1 Axes>"
            ],
            "image/png": "[encoded data removed]"
          },
          "metadata": {}
        }
      ]
    },
    {
      "cell_type": "code",
      "source": [
        "# Identifying Crime Hotspot by location\n"
      ],
      "metadata": {
        "id": "eSMfz2x8f07H"
      },
      "execution_count": null,
      "outputs": []
    },
    {
      "cell_type": "code",
      "execution_count": null,
      "metadata": {
        "id": "uowS6Jzxdra4",
        "outputId": "e9a64206-9460-4a11-f71d-51aa5235d746"
      },
      "outputs": [
        {
          "data": {
            "image/png": "[encoded data removed]",
            "text/plain": [
              "<Figure size 1600x500 with 2 Axes>"
            ]
          },
          "metadata": {},
          "output_type": "display_data"
        }
      ],
      "source": [
        "# It Not Show us the accurate result so we will se the top age and crime\n",
        "top_age_group = df_m['Vict Age'].value_counts().head(10)\n",
        "top_crime_group = df_m['Crm Cd Desc'].value_counts().head(10)\n",
        "\n",
        "# Creating a barplot to visualize the compared result of top 10 age and crime data using SEABORN and MATPLOTLIB\n",
        "\n",
        "plt.figure(figsize=(16, 5))\n",
        "\n",
        "# We will compare with using sublots for top 5 age group\n",
        "plt.subplot(1, 2, 1)\n",
        "sns.barplot(x=top_age_group.index, y=top_age_group.values)\n",
        "plt.xticks(rotation=45, ha='right')\n",
        "plt.xlabel('age_group')\n",
        "\n",
        "\n",
        "plt.subplot(1, 2, 2)\n",
        "sns.barplot(x=top_crime_group.index, y=top_crime_group.values)\n",
        "plt.xticks(rotation=45, ha='right')\n",
        "plt.xlabel('crime group')\n",
        "plt.tight_layout()\n"
      ]
    },
    {
      "cell_type": "code",
      "execution_count": null,
      "metadata": {
        "id": "BG9ucEmCdra5",
        "outputId": "f14e5346-7d5c-4579-d448-17dc8ed62ba2"
      },
      "outputs": [
        {
          "data": {
            "text/html": [
              "<div>\n",
              "<style scoped>\n",
              "    .dataframe tbody tr th:only-of-type {\n",
              "        vertical-align: middle;\n",
              "    }\n",
              "\n",
              "    .dataframe tbody tr th {\n",
              "        vertical-align: top;\n",
              "    }\n",
              "\n",
              "    .dataframe thead th {\n",
              "        text-align: right;\n",
              "    }\n",
              "</style>\n",
              "<table border=\"1\" class=\"dataframe\">\n",
              "  <thead>\n",
              "    <tr style=\"text-align: right;\">\n",
              "      <th></th>\n",
              "      <th>AREA</th>\n",
              "      <th>AREA NAME</th>\n",
              "      <th>Part 1-2</th>\n",
              "      <th>Crm Cd</th>\n",
              "      <th>Crm Cd Desc</th>\n",
              "      <th>Vict Age</th>\n",
              "      <th>Premis Cd</th>\n",
              "      <th>Premis Desc</th>\n",
              "      <th>Status</th>\n",
              "      <th>Status Desc</th>\n",
              "      <th>LOCATION</th>\n",
              "      <th>LAT</th>\n",
              "      <th>LON</th>\n",
              "      <th>Date</th>\n",
              "    </tr>\n",
              "  </thead>\n",
              "  <tbody>\n",
              "    <tr>\n",
              "      <th>1</th>\n",
              "      <td>1</td>\n",
              "      <td>Central</td>\n",
              "      <td>1</td>\n",
              "      <td>330</td>\n",
              "      <td>BURGLARY FROM VEHICLE</td>\n",
              "      <td>47</td>\n",
              "      <td>128</td>\n",
              "      <td>BUS STOP/LAYOVER (ALSO QUERY 124)</td>\n",
              "      <td>IC</td>\n",
              "      <td>Invest Cont</td>\n",
              "      <td>1000 S  FLOWER                       ST</td>\n",
              "      <td>34.0444</td>\n",
              "      <td>-118.2628</td>\n",
              "      <td>02/08/2020 12:00:00 AM</td>\n",
              "    </tr>\n",
              "    <tr>\n",
              "      <th>2</th>\n",
              "      <td>3</td>\n",
              "      <td>Southwest</td>\n",
              "      <td>1</td>\n",
              "      <td>480</td>\n",
              "      <td>BIKE - STOLEN</td>\n",
              "      <td>19</td>\n",
              "      <td>502</td>\n",
              "      <td>MULTI-UNIT DWELLING (APARTMENT, DUPLEX, ETC)</td>\n",
              "      <td>IC</td>\n",
              "      <td>Invest Cont</td>\n",
              "      <td>1400 W  37TH                         ST</td>\n",
              "      <td>34.0210</td>\n",
              "      <td>-118.3002</td>\n",
              "      <td>11/04/2020 12:00:00 AM</td>\n",
              "    </tr>\n",
              "    <tr>\n",
              "      <th>3</th>\n",
              "      <td>9</td>\n",
              "      <td>Van Nuys</td>\n",
              "      <td>1</td>\n",
              "      <td>343</td>\n",
              "      <td>SHOPLIFTING-GRAND THEFT ($950.01 &amp; OVER)</td>\n",
              "      <td>19</td>\n",
              "      <td>405</td>\n",
              "      <td>CLOTHING STORE</td>\n",
              "      <td>IC</td>\n",
              "      <td>Invest Cont</td>\n",
              "      <td>14000    RIVERSIDE                    DR</td>\n",
              "      <td>34.1576</td>\n",
              "      <td>-118.4387</td>\n",
              "      <td>03/10/2020 12:00:00 AM</td>\n",
              "    </tr>\n",
              "    <tr>\n",
              "      <th>4</th>\n",
              "      <td>6</td>\n",
              "      <td>Hollywood</td>\n",
              "      <td>2</td>\n",
              "      <td>354</td>\n",
              "      <td>THEFT OF IDENTITY</td>\n",
              "      <td>28</td>\n",
              "      <td>102</td>\n",
              "      <td>SIDEWALK</td>\n",
              "      <td>IC</td>\n",
              "      <td>Invest Cont</td>\n",
              "      <td>1900    TRANSIENT</td>\n",
              "      <td>34.0944</td>\n",
              "      <td>-118.3277</td>\n",
              "      <td>08/17/2020 12:00:00 AM</td>\n",
              "    </tr>\n",
              "    <tr>\n",
              "      <th>5</th>\n",
              "      <td>18</td>\n",
              "      <td>Southeast</td>\n",
              "      <td>2</td>\n",
              "      <td>354</td>\n",
              "      <td>THEFT OF IDENTITY</td>\n",
              "      <td>41</td>\n",
              "      <td>501</td>\n",
              "      <td>SINGLE FAMILY DWELLING</td>\n",
              "      <td>IC</td>\n",
              "      <td>Invest Cont</td>\n",
              "      <td>9900    COMPTON                      AV</td>\n",
              "      <td>33.9467</td>\n",
              "      <td>-118.2463</td>\n",
              "      <td>12/01/2020 12:00:00 AM</td>\n",
              "    </tr>\n",
              "  </tbody>\n",
              "</table>\n",
              "</div>"
            ],
            "text/plain": [
              "   AREA  AREA NAME  Part 1-2  Crm Cd  \\\n",
              "1     1    Central         1     330   \n",
              "2     3  Southwest         1     480   \n",
              "3     9   Van Nuys         1     343   \n",
              "4     6  Hollywood         2     354   \n",
              "5    18  Southeast         2     354   \n",
              "\n",
              "                                Crm Cd Desc  Vict Age  Premis Cd  \\\n",
              "1                     BURGLARY FROM VEHICLE        47        128   \n",
              "2                             BIKE - STOLEN        19        502   \n",
              "3  SHOPLIFTING-GRAND THEFT ($950.01 & OVER)        19        405   \n",
              "4                         THEFT OF IDENTITY        28        102   \n",
              "5                         THEFT OF IDENTITY        41        501   \n",
              "\n",
              "                                    Premis Desc Status  Status Desc  \\\n",
              "1             BUS STOP/LAYOVER (ALSO QUERY 124)     IC  Invest Cont   \n",
              "2  MULTI-UNIT DWELLING (APARTMENT, DUPLEX, ETC)     IC  Invest Cont   \n",
              "3                                CLOTHING STORE     IC  Invest Cont   \n",
              "4                                      SIDEWALK     IC  Invest Cont   \n",
              "5                        SINGLE FAMILY DWELLING     IC  Invest Cont   \n",
              "\n",
              "                                   LOCATION      LAT       LON  \\\n",
              "1   1000 S  FLOWER                       ST  34.0444 -118.2628   \n",
              "2   1400 W  37TH                         ST  34.0210 -118.3002   \n",
              "3  14000    RIVERSIDE                    DR  34.1576 -118.4387   \n",
              "4                         1900    TRANSIENT  34.0944 -118.3277   \n",
              "5   9900    COMPTON                      AV  33.9467 -118.2463   \n",
              "\n",
              "                     Date  \n",
              "1  02/08/2020 12:00:00 AM  \n",
              "2  11/04/2020 12:00:00 AM  \n",
              "3  03/10/2020 12:00:00 AM  \n",
              "4  08/17/2020 12:00:00 AM  \n",
              "5  12/01/2020 12:00:00 AM  "
            ]
          },
          "execution_count": 41,
          "metadata": {},
          "output_type": "execute_result"
        }
      ],
      "source": [
        "df_m.head()"
      ]
    },
    {
      "cell_type": "code",
      "execution_count": null,
      "metadata": {
        "id": "HUf_1uDgdra5",
        "outputId": "55dcb917-89fa-44a3-8b78-4c46a76a7844",
        "colab": {
          "base_uri": "https://localhost:8080/"
        }
      },
      "outputs": [
        {
          "output_type": "execute_result",
          "data": {
            "text/plain": [
              "Date\n",
              "01/01/2020 12:00:00 AM    428\n",
              "01/02/2020 12:00:00 AM    191\n",
              "01/03/2020 12:00:00 AM    208\n",
              "01/04/2020 12:00:00 AM    174\n",
              "01/05/2020 12:00:00 AM    167\n",
              "                         ... \n",
              "12/27/2020 12:00:00 AM    136\n",
              "12/28/2020 12:00:00 AM    148\n",
              "12/29/2020 12:00:00 AM    157\n",
              "12/30/2020 12:00:00 AM    160\n",
              "12/31/2020 12:00:00 AM    189\n",
              "Name: Crm Cd, Length: 366, dtype: int64"
            ]
          },
          "metadata": {},
          "execution_count": 15
        }
      ],
      "source": [
        "# Let's Group by the date and crimes to count it\n",
        "crime_by_date = df_m.groupby('Date')['Crm Cd'].count()\n",
        "crime_by_date"
      ]
    },
    {
      "cell_type": "code",
      "execution_count": null,
      "metadata": {
        "id": "6gJ37HROdra5",
        "outputId": "42bf515d-9d0e-4230-b75c-f6a471887950",
        "colab": {
          "base_uri": "https://localhost:8080/"
        }
      },
      "outputs": [
        {
          "output_type": "execute_result",
          "data": {
            "text/plain": [
              "AREA NAME\n",
              "77th Street    4489\n",
              "Central        4089\n",
              "Devonshire     2506\n",
              "Foothill       2429\n",
              "Harbor         2721\n",
              "Hollenbeck     2258\n",
              "Hollywood      3580\n",
              "Mission        2923\n",
              "N Hollywood    3381\n",
              "Newton         3073\n",
              "Northeast      2662\n",
              "Olympic        3059\n",
              "Pacific        3713\n",
              "Rampart        3044\n",
              "Southeast      3629\n",
              "Southwest      4272\n",
              "Topanga        3178\n",
              "Van Nuys       3194\n",
              "West LA        3264\n",
              "West Valley    2696\n",
              "Wilshire       3575\n",
              "Name: Crm Cd, dtype: int64"
            ]
          },
          "metadata": {},
          "execution_count": 16
        }
      ],
      "source": [
        "# Let's group by area and crime\n",
        "crime_by_area = df_m.groupby('AREA NAME')['Crm Cd'].count()\n",
        "crime_by_area\n",
        "# 77th Street is were most crimes did::"
      ]
    },
    {
      "cell_type": "markdown",
      "metadata": {
        "id": "dYj-xG9mdra6"
      },
      "source": [
        "<!-- Lets's Perform Machine Learning Algorithms -->"
      ]
    },
    {
      "cell_type": "markdown",
      "metadata": {
        "id": "zZq_uh4Tdra6"
      },
      "source": [
        "Machine learning time###"
      ]
    },
    {
      "cell_type": "code",
      "execution_count": null,
      "metadata": {
        "id": "EkSmk8uFdra6",
        "outputId": "2597bccb-574e-4d18-b7c2-daca1bf292c9",
        "colab": {
          "base_uri": "https://localhost:8080/",
          "height": 447
        }
      },
      "outputs": [
        {
          "output_type": "execute_result",
          "data": {
            "text/plain": [
              "[<matplotlib.lines.Line2D at 0x7b5683cd0880>]"
            ]
          },
          "metadata": {},
          "execution_count": 40
        },
        {
          "output_type": "display_data",
          "data": {
            "text/plain": [
              "<Figure size 640x480 with 1 Axes>"
            ],
            "image/png": "[encoded data removed]"
          },
          "metadata": {}
        }
      ],
      "source": [
        "# Most of the thing and the structure of the data said that it's clustering, hehe, so let's perform!!\n",
        "# I will do it on sklearn Kmeans Clustering!!\n",
        "from sklearn.cluster import KMeans\n",
        "from sklearn.preprocessing import StandardScaler\n",
        "import warnings\n",
        "warnings.filterwarnings('ignore')\n",
        "# For Clustering which columns are relevant for K-means clustering (represented by the feature matrix X)\n",
        "#  typically consider numerical columns that represent characteristics or features data that are meaningful for clustering\n",
        "# since K-means clustering is an unsupervised learning method that groups similar data points together based on their features\n",
        "\n",
        "X = df_m[['LAT', 'LON', 'Vict Age', 'Premis Cd']]\n",
        "\n",
        "# Let's Scale the features!\n",
        "scaler = StandardScaler()\n",
        "X = scaler.fit_transform(X)\n",
        "# THen Let's initialize the kmeans\n",
        "# For choosing the best value for k we will implement the Elbow method!\n",
        "inertia = []\n",
        "for i in range(1, 11):\n",
        "  kmeans = KMeans(n_clusters=i)\n",
        "  kmeans.fit(X)\n",
        "  inertia.append(kmeans.inertia_)\n",
        "plt.plot(range(1, 11), inertia, marker='o')"
      ]
    },
    {
      "cell_type": "code",
      "source": [
        "# It's giving us that the best value for K is 4 or 5.\n",
        "# to 5 for more robust seeing of the data and interpreting the result\n",
        "kmeans = KMeans(n_clusters=5)\n",
        "kmeans.fit(X)\n",
        "\n",
        "\n",
        "# Getting the cluster labels for each DataPoint\n",
        "clusters = kmeans.labels_\n",
        "\n",
        "# Adding the clustering label to my dataframe for analysing and visualizing\n",
        "df_m['Cluster'] = clusters\n",
        "\n",
        "# Now Let's analyse the cluster and it's characteristics\n",
        "# Getting THe Centroid of each cluster\n",
        "cluster_center = kmeans.cluster_centers_\n",
        "# counting the datapoints in each column\n",
        "cluster_counts = df_m['Cluster'].value_counts()\n",
        "print('Cluster centers:')\n",
        "print(cluster_center)"
      ],
      "metadata": {
        "id": "e_B-HBz8Lpn2"
      },
      "execution_count": null,
      "outputs": []
    },
    {
      "cell_type": "code",
      "execution_count": null,
      "metadata": {
        "id": "nVUbRpAMdra6"
      },
      "outputs": [],
      "source": [
        "# IN FACT YOU DO NOT NEED TO CREATE IT(IT'S USE HIGH COMPUTATION POWER SO LEAVE JUST SEE THE {ATTACH MAP})\n",
        "\n",
        "\n",
        "# Let's visualize the Clusters on the map we Will USE the (folium)\n",
        "import folium\n",
        "\n",
        "# Creating a map centered around the mean latitude and longitude\n",
        "crime_map_cluster = folium.Map(location=[df_m['LAT'].mean(), df_m['LON'].mean()], zoom_start=10)\n",
        "\n",
        "# adding marker on the map for crime location, With different color for each CLUSter\n",
        "colors = ['red', 'blue', 'green']\n",
        "for index, row in df_m.iterrows():\n",
        "    folium.Marker([row['LAT'], row['LON']], popup=f\"Cluster: {row['Cluster']}\",\n",
        "                   icon=folium.Icon(color=colors[row['Cluster']])).add_to(crime_map_cluster)\n",
        "# Let's Display the map\n",
        "crime_map_cluster.save('crime_map_clusters.html')\n",
        "# It WILL Take a few minutes;---"
      ]
    },
    {
      "cell_type": "markdown",
      "metadata": {
        "id": "zT2oaOOddra6"
      },
      "source": [
        "CLUSTER INTERPRETATION"
      ]
    },
    {
      "cell_type": "code",
      "execution_count": null,
      "metadata": {
        "id": "yJjyRtc8dra7"
      },
      "outputs": [],
      "source": [
        "# Let's interpret the clusters based on it's features\n",
        "cluster_0 = df_m[df_m['Cluster'] == 0]\n",
        "cluster_1 = df_m[df_m['Cluster'] == 1]\n",
        "cluster_2 = df_m[df_m['Cluster'] == 2]\n",
        "\n",
        "# analayzing it\n",
        "print('Cluster 0:')\n",
        "print(cluster_0.describe())"
      ]
    },
    {
      "cell_type": "code",
      "execution_count": null,
      "metadata": {
        "id": "HaLSCFAXdra7"
      },
      "outputs": [],
      "source": [
        "print('Cluster 1:')\n",
        "print(cluster_1.describe())"
      ]
    },
    {
      "cell_type": "code",
      "execution_count": null,
      "metadata": {
        "id": "jZ4eMCkjdra7"
      },
      "outputs": [],
      "source": [
        "print('Cluster 2:')\n",
        "print(cluster_2.describe())"
      ]
    },
    {
      "cell_type": "markdown",
      "metadata": {
        "id": "McQtZUucdra7"
      },
      "source": [
        "Phase of Predictive Modeling"
      ]
    },
    {
      "cell_type": "code",
      "execution_count": null,
      "metadata": {
        "id": "eEaTzxYidra8",
        "colab": {
          "base_uri": "https://localhost:8080/"
        },
        "outputId": "1c7618ed-3cd5-41b2-cb2f-90c302d48f29"
      },
      "outputs": [
        {
          "output_type": "stream",
          "name": "stdout",
          "text": [
            "Model Accuracy:  1.0\n"
          ]
        }
      ],
      "source": [
        "# IMporting the necessary libraries!\n",
        "from sklearn.linear_model import LogisticRegression\n",
        "from sklearn.model_selection import train_test_split\n",
        "from sklearn.metrics import classification_report, accuracy_score\n",
        "\n",
        "# SPliting The Data into Training and validation sets\n",
        "X_train, X_test, y_train, y_test = train_test_split(X, clusters, test_size=.2, random_state=42)\n",
        "\n",
        "# training the model\n",
        "lgs_r = LogisticRegression()\n",
        "lgs_r.fit(X_train, y_train)\n",
        "\n",
        "# Predicting the model on unseen data(test Set)\n",
        "y_pred = lgs_r.predict(X_test)\n",
        "\n",
        "# Evaluating The model!\n",
        "accuracy = accuracy_score(y_test, y_pred)\n",
        "print(\"Model Accuracy: \", accuracy)"
      ]
    },
    {
      "cell_type": "markdown",
      "source": [
        "Addressing overfitting!!"
      ],
      "metadata": {
        "id": "GyQ0uGkN9As_"
      }
    },
    {
      "cell_type": "code",
      "source": [
        "# Let's address the overfitting\n",
        "\n",
        "\n",
        "from sklearn.feature_selection import SelectFromModel\n",
        "from sklearn.model_selection import cross_val_score, KFold\n",
        "from sklearn.linear_model import LogisticRegression\n",
        "from sklearn.metrics import classification_report, roc_auc_score\n",
        "\n",
        "# Initializing another Logistic model with l2 regularization (Ridge)\n",
        "logistic_model = LogisticRegression(penalty='l2', solver='liblinear')\n",
        "\n",
        "# Here i performing feature selection based on l2 regularization::\n",
        "sfm = SelectFromModel(logistic_model)\n",
        "X_train_selected = sfm.fit_transform(X_train, y_train)\n",
        "X_test_selected = sfm.transform(X_test)\n",
        "\n",
        "\n",
        "# Training the model on the selected feature\n",
        "logistic_model.fit(X_train_selected, y_train)\n",
        "\n",
        "# Then Making prediction on the test set\n",
        "y_predict = logistic_model.predict(X_test_selected)\n",
        "\n",
        "# Evaluating the model Performance\n",
        "accuracy = accuracy_score(y_test, y_predict)\n",
        "print('Accuracy Score: ', accuracy)\n",
        "\n",
        "# Perform cross-Validation to assess model Generalization!\n",
        "kfold = KFold(n_splits=5)\n",
        "cv_score = cross_val_score(logistic_model, X_train_selected, y_train, cv=kfold)\n",
        "print(\"Cross Validation Score: \", cv_score)\n",
        "print(\"Mean Cross validation score: \", cv_score.mean())\n",
        "\n",
        "# Calculating ROC-AUC Score\n",
        "roc_auc = roc_auc_score(y_test, y_predict)\n",
        "\n",
        "# Classification report\n",
        "print(\"classification Report: \\n\",classification_report(y_test, y_predict))"
      ],
      "metadata": {
        "colab": {
          "base_uri": "https://localhost:8080/"
        },
        "id": "DXYiiPLXaaad",
        "outputId": "230e05bb-1c76-4b45-d4e3-e1d40b6f0782"
      },
      "execution_count": null,
      "outputs": [
        {
          "output_type": "stream",
          "name": "stdout",
          "text": [
            "Accuracy Score:  0.979921753893851\n",
            "Cross Validation Score:  [0.98357631 0.98366857 0.9823752  0.98219064 0.98163698]\n",
            "Mean Cross validation score:  0.9826895405577349\n",
            "classification Report: \n",
            "               precision    recall  f1-score   support\n",
            "\n",
            "           0       0.99      0.94      0.96      2658\n",
            "           1       1.00      0.99      0.99      4273\n",
            "           2       0.00      0.00      0.00        58\n",
            "           3       1.00      0.99      0.99      2603\n",
            "           4       0.95      1.00      0.97      3955\n",
            "\n",
            "    accuracy                           0.98     13547\n",
            "   macro avg       0.79      0.78      0.78     13547\n",
            "weighted avg       0.98      0.98      0.98     13547\n",
            "\n"
          ]
        }
      ]
    },
    {
      "cell_type": "markdown",
      "source": [
        "**EXTRA'S**"
      ],
      "metadata": {
        "id": "m1tLfLZ3UWv1"
      }
    },
    {
      "cell_type": "markdown",
      "source": [
        "Let's View the Feature Importance!"
      ],
      "metadata": {
        "id": "A08wK4DcNky9"
      }
    },
    {
      "cell_type": "code",
      "source": [
        "from sklearn.ensemble import RandomForestClassifier\n",
        "# Trianing a random forest classifier To Access the feature importance\n",
        "rfc_cl = RandomForestClassifier()\n",
        "rfc_cl.fit(X_train, y_train)\n",
        "\n",
        "# Getting feature Importance!\n",
        "feature_importance = rfc_cl.feature_importances_"
      ],
      "metadata": {
        "id": "DquGxZNnND0n"
      },
      "execution_count": null,
      "outputs": []
    },
    {
      "cell_type": "code",
      "source": [
        "print(\"Feature IMportance: \")\n",
        "print(feature_importance)"
      ],
      "metadata": {
        "colab": {
          "base_uri": "https://localhost:8080/"
        },
        "id": "kmDSg6f1PP1F",
        "outputId": "39c1a943-1eb6-40ea-8bd9-568de54d68d5"
      },
      "execution_count": null,
      "outputs": [
        {
          "output_type": "stream",
          "name": "stdout",
          "text": [
            "Feature IMportance: \n",
            "[0.0047294  0.00532774 0.50610864 0.48383422]\n"
          ]
        }
      ]
    },
    {
      "cell_type": "code",
      "source": [
        "df_m.info()"
      ],
      "metadata": {
        "id": "4675MmNhwRo8",
        "outputId": "867b7fc7-3f3c-46e1-ecbf-f40cb11ff23c",
        "colab": {
          "base_uri": "https://localhost:8080/"
        }
      },
      "execution_count": null,
      "outputs": [
        {
          "output_type": "stream",
          "name": "stdout",
          "text": [
            "<class 'pandas.core.frame.DataFrame'>\n",
            "Index: 196780 entries, 0 to 196779\n",
            "Data columns (total 14 columns):\n",
            " #   Column       Non-Null Count   Dtype         \n",
            "---  ------       --------------   -----         \n",
            " 0   AREA         196780 non-null  int64         \n",
            " 1   AREA NAME    196780 non-null  object        \n",
            " 2   Part 1-2     196780 non-null  float64       \n",
            " 3   Crm Cd       196780 non-null  float64       \n",
            " 4   Crm Cd Desc  196780 non-null  object        \n",
            " 5   Vict Age     196780 non-null  float64       \n",
            " 6   Premis Cd    196780 non-null  int64         \n",
            " 7   Premis Desc  196780 non-null  object        \n",
            " 8   Status       196780 non-null  object        \n",
            " 9   Status Desc  196780 non-null  object        \n",
            " 10  LOCATION     196780 non-null  object        \n",
            " 11  LAT          196780 non-null  float64       \n",
            " 12  LON          196780 non-null  float64       \n",
            " 13  Date         196780 non-null  datetime64[ns]\n",
            "dtypes: datetime64[ns](1), float64(5), int64(2), object(6)\n",
            "memory usage: 22.5+ MB\n"
          ]
        }
      ]
    },
    {
      "cell_type": "markdown",
      "source": [
        "# Tensorflow Part With Text Analysis"
      ],
      "metadata": {
        "id": "NYcgdJLNmFWo"
      }
    },
    {
      "cell_type": "code",
      "source": [
        "import tensorflow as tf"
      ],
      "metadata": {
        "id": "zCfppuNimRDV"
      },
      "execution_count": null,
      "outputs": []
    },
    {
      "cell_type": "code",
      "source": [
        "from tensorflow.keras.models import Model\n",
        "from tensorflow.keras.layers import Input, Dense, Embedding, LSTM, concatenate\n",
        "from sklearn.preprocessing import StandardScaler\n",
        "from sklearn.model_selection import train_test_split"
      ],
      "metadata": {
        "id": "8Dtv1U3DmVHe"
      },
      "execution_count": null,
      "outputs": []
    },
    {
      "cell_type": "code",
      "source": [
        "X_text = df_m[['Crm Cd Desc', 'Premis Desc', 'Status Desc', 'LOCATION']]\n",
        "X_numeric = df_m.drop(['Crm Cd Desc', 'Premis Desc', 'Status Desc', 'LOCATION', 'Date'], axis=1)\n",
        "y = df_m['Date']\n",
        "\n",
        "# I wil Preprocess Text Data\n",
        "vocab_size = 10000\n",
        "max_len = 100\n",
        "tokenizer = tf.keras.preprocessing.text.Tokenizer(num_words=vocab_size)\n",
        "tokenizer.fit_on_texts(X_text.values.flatten())\n",
        "X_test_encode = tokenizer.texts_to_sequences(X_text.values.flatten())\n",
        "X_test_padded = tf.keras.preprocessing.sequence.pad_sequences(X_test_encode, maxlen=max_len)\n",
        "\n",
        "# Standardized Numerical data\n",
        "scaler = StandardScaler()\n",
        "X_numeric_scaled = scaler.fit_transform(X_numeric)"
      ],
      "metadata": {
        "colab": {
          "base_uri": "https://localhost:8080/",
          "height": 321
        },
        "id": "6Cy0MNrznRMi",
        "outputId": "361bbd04-7b9c-42d7-ebcd-9e899cc2a77a"
      },
      "execution_count": null,
      "outputs": [
        {
          "output_type": "error",
          "ename": "ValueError",
          "evalue": "could not convert string to float: 'Central'",
          "traceback": [
            "\u001b[0;31m---------------------------------------------------------------------------\u001b[0m",
            "\u001b[0;31mValueError\u001b[0m                                Traceback (most recent call last)",
            "\u001b[0;32m<ipython-input-27-e1e40429e310>\u001b[0m in \u001b[0;36m<cell line: 15>\u001b[0;34m()\u001b[0m\n\u001b[1;32m     13\u001b[0m \u001b[0;31m# Standardized Numerical data\u001b[0m\u001b[0;34m\u001b[0m\u001b[0;34m\u001b[0m\u001b[0m\n\u001b[1;32m     14\u001b[0m \u001b[0mscaler\u001b[0m \u001b[0;34m=\u001b[0m \u001b[0mStandardScaler\u001b[0m\u001b[0;34m(\u001b[0m\u001b[0;34m)\u001b[0m\u001b[0;34m\u001b[0m\u001b[0;34m\u001b[0m\u001b[0m\n\u001b[0;32m---> 15\u001b[0;31m \u001b[0mX_numeric_scaled\u001b[0m \u001b[0;34m=\u001b[0m \u001b[0mscaler\u001b[0m\u001b[0;34m.\u001b[0m\u001b[0mfit_transform\u001b[0m\u001b[0;34m(\u001b[0m\u001b[0mX_numeric\u001b[0m\u001b[0;34m)\u001b[0m\u001b[0;34m\u001b[0m\u001b[0;34m\u001b[0m\u001b[0m\n\u001b[0m",
            "\u001b[0;32m/usr/local/lib/python3.10/dist-packages/sklearn/utils/_set_output.py\u001b[0m in \u001b[0;36mwrapped\u001b[0;34m(self, X, *args, **kwargs)\u001b[0m\n\u001b[1;32m    138\u001b[0m     \u001b[0;34m@\u001b[0m\u001b[0mwraps\u001b[0m\u001b[0;34m(\u001b[0m\u001b[0mf\u001b[0m\u001b[0;34m)\u001b[0m\u001b[0;34m\u001b[0m\u001b[0;34m\u001b[0m\u001b[0m\n\u001b[1;32m    139\u001b[0m     \u001b[0;32mdef\u001b[0m \u001b[0mwrapped\u001b[0m\u001b[0;34m(\u001b[0m\u001b[0mself\u001b[0m\u001b[0;34m,\u001b[0m \u001b[0mX\u001b[0m\u001b[0;34m,\u001b[0m \u001b[0;34m*\u001b[0m\u001b[0margs\u001b[0m\u001b[0;34m,\u001b[0m \u001b[0;34m**\u001b[0m\u001b[0mkwargs\u001b[0m\u001b[0;34m)\u001b[0m\u001b[0;34m:\u001b[0m\u001b[0;34m\u001b[0m\u001b[0;34m\u001b[0m\u001b[0m\n\u001b[0;32m--> 140\u001b[0;31m         \u001b[0mdata_to_wrap\u001b[0m \u001b[0;34m=\u001b[0m \u001b[0mf\u001b[0m\u001b[0;34m(\u001b[0m\u001b[0mself\u001b[0m\u001b[0;34m,\u001b[0m \u001b[0mX\u001b[0m\u001b[0;34m,\u001b[0m \u001b[0;34m*\u001b[0m\u001b[0margs\u001b[0m\u001b[0;34m,\u001b[0m \u001b[0;34m**\u001b[0m\u001b[0mkwargs\u001b[0m\u001b[0;34m)\u001b[0m\u001b[0;34m\u001b[0m\u001b[0;34m\u001b[0m\u001b[0m\n\u001b[0m\u001b[1;32m    141\u001b[0m         \u001b[0;32mif\u001b[0m \u001b[0misinstance\u001b[0m\u001b[0;34m(\u001b[0m\u001b[0mdata_to_wrap\u001b[0m\u001b[0;34m,\u001b[0m \u001b[0mtuple\u001b[0m\u001b[0;34m)\u001b[0m\u001b[0;34m:\u001b[0m\u001b[0;34m\u001b[0m\u001b[0;34m\u001b[0m\u001b[0m\n\u001b[1;32m    142\u001b[0m             \u001b[0;31m# only wrap the first output for cross decomposition\u001b[0m\u001b[0;34m\u001b[0m\u001b[0;34m\u001b[0m\u001b[0m\n",
            "\u001b[0;32m/usr/local/lib/python3.10/dist-packages/sklearn/base.py\u001b[0m in \u001b[0;36mfit_transform\u001b[0;34m(self, X, y, **fit_params)\u001b[0m\n\u001b[1;32m    876\u001b[0m         \u001b[0;32mif\u001b[0m \u001b[0my\u001b[0m \u001b[0;32mis\u001b[0m \u001b[0;32mNone\u001b[0m\u001b[0;34m:\u001b[0m\u001b[0;34m\u001b[0m\u001b[0;34m\u001b[0m\u001b[0m\n\u001b[1;32m    877\u001b[0m             \u001b[0;31m# fit method of arity 1 (unsupervised transformation)\u001b[0m\u001b[0;34m\u001b[0m\u001b[0;34m\u001b[0m\u001b[0m\n\u001b[0;32m--> 878\u001b[0;31m             \u001b[0;32mreturn\u001b[0m \u001b[0mself\u001b[0m\u001b[0;34m.\u001b[0m\u001b[0mfit\u001b[0m\u001b[0;34m(\u001b[0m\u001b[0mX\u001b[0m\u001b[0;34m,\u001b[0m \u001b[0;34m**\u001b[0m\u001b[0mfit_params\u001b[0m\u001b[0;34m)\u001b[0m\u001b[0;34m.\u001b[0m\u001b[0mtransform\u001b[0m\u001b[0;34m(\u001b[0m\u001b[0mX\u001b[0m\u001b[0;34m)\u001b[0m\u001b[0;34m\u001b[0m\u001b[0;34m\u001b[0m\u001b[0m\n\u001b[0m\u001b[1;32m    879\u001b[0m         \u001b[0;32melse\u001b[0m\u001b[0;34m:\u001b[0m\u001b[0;34m\u001b[0m\u001b[0;34m\u001b[0m\u001b[0m\n\u001b[1;32m    880\u001b[0m             \u001b[0;31m# fit method of arity 2 (supervised transformation)\u001b[0m\u001b[0;34m\u001b[0m\u001b[0;34m\u001b[0m\u001b[0m\n",
            "\u001b[0;32m/usr/local/lib/python3.10/dist-packages/sklearn/preprocessing/_data.py\u001b[0m in \u001b[0;36mfit\u001b[0;34m(self, X, y, sample_weight)\u001b[0m\n\u001b[1;32m    822\u001b[0m         \u001b[0;31m# Reset internal state before fitting\u001b[0m\u001b[0;34m\u001b[0m\u001b[0;34m\u001b[0m\u001b[0m\n\u001b[1;32m    823\u001b[0m         \u001b[0mself\u001b[0m\u001b[0;34m.\u001b[0m\u001b[0m_reset\u001b[0m\u001b[0;34m(\u001b[0m\u001b[0;34m)\u001b[0m\u001b[0;34m\u001b[0m\u001b[0;34m\u001b[0m\u001b[0m\n\u001b[0;32m--> 824\u001b[0;31m         \u001b[0;32mreturn\u001b[0m \u001b[0mself\u001b[0m\u001b[0;34m.\u001b[0m\u001b[0mpartial_fit\u001b[0m\u001b[0;34m(\u001b[0m\u001b[0mX\u001b[0m\u001b[0;34m,\u001b[0m \u001b[0my\u001b[0m\u001b[0;34m,\u001b[0m \u001b[0msample_weight\u001b[0m\u001b[0;34m)\u001b[0m\u001b[0;34m\u001b[0m\u001b[0;34m\u001b[0m\u001b[0m\n\u001b[0m\u001b[1;32m    825\u001b[0m \u001b[0;34m\u001b[0m\u001b[0m\n\u001b[1;32m    826\u001b[0m     \u001b[0;32mdef\u001b[0m \u001b[0mpartial_fit\u001b[0m\u001b[0;34m(\u001b[0m\u001b[0mself\u001b[0m\u001b[0;34m,\u001b[0m \u001b[0mX\u001b[0m\u001b[0;34m,\u001b[0m \u001b[0my\u001b[0m\u001b[0;34m=\u001b[0m\u001b[0;32mNone\u001b[0m\u001b[0;34m,\u001b[0m \u001b[0msample_weight\u001b[0m\u001b[0;34m=\u001b[0m\u001b[0;32mNone\u001b[0m\u001b[0;34m)\u001b[0m\u001b[0;34m:\u001b[0m\u001b[0;34m\u001b[0m\u001b[0;34m\u001b[0m\u001b[0m\n",
            "\u001b[0;32m/usr/local/lib/python3.10/dist-packages/sklearn/preprocessing/_data.py\u001b[0m in \u001b[0;36mpartial_fit\u001b[0;34m(self, X, y, sample_weight)\u001b[0m\n\u001b[1;32m    859\u001b[0m \u001b[0;34m\u001b[0m\u001b[0m\n\u001b[1;32m    860\u001b[0m         \u001b[0mfirst_call\u001b[0m \u001b[0;34m=\u001b[0m \u001b[0;32mnot\u001b[0m \u001b[0mhasattr\u001b[0m\u001b[0;34m(\u001b[0m\u001b[0mself\u001b[0m\u001b[0;34m,\u001b[0m \u001b[0;34m\"n_samples_seen_\"\u001b[0m\u001b[0;34m)\u001b[0m\u001b[0;34m\u001b[0m\u001b[0;34m\u001b[0m\u001b[0m\n\u001b[0;32m--> 861\u001b[0;31m         X = self._validate_data(\n\u001b[0m\u001b[1;32m    862\u001b[0m             \u001b[0mX\u001b[0m\u001b[0;34m,\u001b[0m\u001b[0;34m\u001b[0m\u001b[0;34m\u001b[0m\u001b[0m\n\u001b[1;32m    863\u001b[0m             \u001b[0maccept_sparse\u001b[0m\u001b[0;34m=\u001b[0m\u001b[0;34m(\u001b[0m\u001b[0;34m\"csr\"\u001b[0m\u001b[0;34m,\u001b[0m \u001b[0;34m\"csc\"\u001b[0m\u001b[0;34m)\u001b[0m\u001b[0;34m,\u001b[0m\u001b[0;34m\u001b[0m\u001b[0;34m\u001b[0m\u001b[0m\n",
            "\u001b[0;32m/usr/local/lib/python3.10/dist-packages/sklearn/base.py\u001b[0m in \u001b[0;36m_validate_data\u001b[0;34m(self, X, y, reset, validate_separately, **check_params)\u001b[0m\n\u001b[1;32m    563\u001b[0m             \u001b[0;32mraise\u001b[0m \u001b[0mValueError\u001b[0m\u001b[0;34m(\u001b[0m\u001b[0;34m\"Validation should be done on X, y or both.\"\u001b[0m\u001b[0;34m)\u001b[0m\u001b[0;34m\u001b[0m\u001b[0;34m\u001b[0m\u001b[0m\n\u001b[1;32m    564\u001b[0m         \u001b[0;32melif\u001b[0m \u001b[0;32mnot\u001b[0m \u001b[0mno_val_X\u001b[0m \u001b[0;32mand\u001b[0m \u001b[0mno_val_y\u001b[0m\u001b[0;34m:\u001b[0m\u001b[0;34m\u001b[0m\u001b[0;34m\u001b[0m\u001b[0m\n\u001b[0;32m--> 565\u001b[0;31m             \u001b[0mX\u001b[0m \u001b[0;34m=\u001b[0m \u001b[0mcheck_array\u001b[0m\u001b[0;34m(\u001b[0m\u001b[0mX\u001b[0m\u001b[0;34m,\u001b[0m \u001b[0minput_name\u001b[0m\u001b[0;34m=\u001b[0m\u001b[0;34m\"X\"\u001b[0m\u001b[0;34m,\u001b[0m \u001b[0;34m**\u001b[0m\u001b[0mcheck_params\u001b[0m\u001b[0;34m)\u001b[0m\u001b[0;34m\u001b[0m\u001b[0;34m\u001b[0m\u001b[0m\n\u001b[0m\u001b[1;32m    566\u001b[0m             \u001b[0mout\u001b[0m \u001b[0;34m=\u001b[0m \u001b[0mX\u001b[0m\u001b[0;34m\u001b[0m\u001b[0;34m\u001b[0m\u001b[0m\n\u001b[1;32m    567\u001b[0m         \u001b[0;32melif\u001b[0m \u001b[0mno_val_X\u001b[0m \u001b[0;32mand\u001b[0m \u001b[0;32mnot\u001b[0m \u001b[0mno_val_y\u001b[0m\u001b[0;34m:\u001b[0m\u001b[0;34m\u001b[0m\u001b[0;34m\u001b[0m\u001b[0m\n",
            "\u001b[0;32m/usr/local/lib/python3.10/dist-packages/sklearn/utils/validation.py\u001b[0m in \u001b[0;36mcheck_array\u001b[0;34m(array, accept_sparse, accept_large_sparse, dtype, order, copy, force_all_finite, ensure_2d, allow_nd, ensure_min_samples, ensure_min_features, estimator, input_name)\u001b[0m\n\u001b[1;32m    877\u001b[0m                     \u001b[0marray\u001b[0m \u001b[0;34m=\u001b[0m \u001b[0mxp\u001b[0m\u001b[0;34m.\u001b[0m\u001b[0mastype\u001b[0m\u001b[0;34m(\u001b[0m\u001b[0marray\u001b[0m\u001b[0;34m,\u001b[0m \u001b[0mdtype\u001b[0m\u001b[0;34m,\u001b[0m \u001b[0mcopy\u001b[0m\u001b[0;34m=\u001b[0m\u001b[0;32mFalse\u001b[0m\u001b[0;34m)\u001b[0m\u001b[0;34m\u001b[0m\u001b[0;34m\u001b[0m\u001b[0m\n\u001b[1;32m    878\u001b[0m                 \u001b[0;32melse\u001b[0m\u001b[0;34m:\u001b[0m\u001b[0;34m\u001b[0m\u001b[0;34m\u001b[0m\u001b[0m\n\u001b[0;32m--> 879\u001b[0;31m                     \u001b[0marray\u001b[0m \u001b[0;34m=\u001b[0m \u001b[0m_asarray_with_order\u001b[0m\u001b[0;34m(\u001b[0m\u001b[0marray\u001b[0m\u001b[0;34m,\u001b[0m \u001b[0morder\u001b[0m\u001b[0;34m=\u001b[0m\u001b[0morder\u001b[0m\u001b[0;34m,\u001b[0m \u001b[0mdtype\u001b[0m\u001b[0;34m=\u001b[0m\u001b[0mdtype\u001b[0m\u001b[0;34m,\u001b[0m \u001b[0mxp\u001b[0m\u001b[0;34m=\u001b[0m\u001b[0mxp\u001b[0m\u001b[0;34m)\u001b[0m\u001b[0;34m\u001b[0m\u001b[0;34m\u001b[0m\u001b[0m\n\u001b[0m\u001b[1;32m    880\u001b[0m             \u001b[0;32mexcept\u001b[0m \u001b[0mComplexWarning\u001b[0m \u001b[0;32mas\u001b[0m \u001b[0mcomplex_warning\u001b[0m\u001b[0;34m:\u001b[0m\u001b[0;34m\u001b[0m\u001b[0;34m\u001b[0m\u001b[0m\n\u001b[1;32m    881\u001b[0m                 raise ValueError(\n",
            "\u001b[0;32m/usr/local/lib/python3.10/dist-packages/sklearn/utils/_array_api.py\u001b[0m in \u001b[0;36m_asarray_with_order\u001b[0;34m(array, dtype, order, copy, xp)\u001b[0m\n\u001b[1;32m    183\u001b[0m     \u001b[0;32mif\u001b[0m \u001b[0mxp\u001b[0m\u001b[0;34m.\u001b[0m\u001b[0m__name__\u001b[0m \u001b[0;32min\u001b[0m \u001b[0;34m{\u001b[0m\u001b[0;34m\"numpy\"\u001b[0m\u001b[0;34m,\u001b[0m \u001b[0;34m\"numpy.array_api\"\u001b[0m\u001b[0;34m}\u001b[0m\u001b[0;34m:\u001b[0m\u001b[0;34m\u001b[0m\u001b[0;34m\u001b[0m\u001b[0m\n\u001b[1;32m    184\u001b[0m         \u001b[0;31m# Use NumPy API to support order\u001b[0m\u001b[0;34m\u001b[0m\u001b[0;34m\u001b[0m\u001b[0m\n\u001b[0;32m--> 185\u001b[0;31m         \u001b[0marray\u001b[0m \u001b[0;34m=\u001b[0m \u001b[0mnumpy\u001b[0m\u001b[0;34m.\u001b[0m\u001b[0masarray\u001b[0m\u001b[0;34m(\u001b[0m\u001b[0marray\u001b[0m\u001b[0;34m,\u001b[0m \u001b[0morder\u001b[0m\u001b[0;34m=\u001b[0m\u001b[0morder\u001b[0m\u001b[0;34m,\u001b[0m \u001b[0mdtype\u001b[0m\u001b[0;34m=\u001b[0m\u001b[0mdtype\u001b[0m\u001b[0;34m)\u001b[0m\u001b[0;34m\u001b[0m\u001b[0;34m\u001b[0m\u001b[0m\n\u001b[0m\u001b[1;32m    186\u001b[0m         \u001b[0;32mreturn\u001b[0m \u001b[0mxp\u001b[0m\u001b[0;34m.\u001b[0m\u001b[0masarray\u001b[0m\u001b[0;34m(\u001b[0m\u001b[0marray\u001b[0m\u001b[0;34m,\u001b[0m \u001b[0mcopy\u001b[0m\u001b[0;34m=\u001b[0m\u001b[0mcopy\u001b[0m\u001b[0;34m)\u001b[0m\u001b[0;34m\u001b[0m\u001b[0;34m\u001b[0m\u001b[0m\n\u001b[1;32m    187\u001b[0m     \u001b[0;32melse\u001b[0m\u001b[0;34m:\u001b[0m\u001b[0;34m\u001b[0m\u001b[0;34m\u001b[0m\u001b[0m\n",
            "\u001b[0;32m/usr/local/lib/python3.10/dist-packages/pandas/core/generic.py\u001b[0m in \u001b[0;36m__array__\u001b[0;34m(self, dtype)\u001b[0m\n\u001b[1;32m   1996\u001b[0m     \u001b[0;32mdef\u001b[0m \u001b[0m__array__\u001b[0m\u001b[0;34m(\u001b[0m\u001b[0mself\u001b[0m\u001b[0;34m,\u001b[0m \u001b[0mdtype\u001b[0m\u001b[0;34m:\u001b[0m \u001b[0mnpt\u001b[0m\u001b[0;34m.\u001b[0m\u001b[0mDTypeLike\u001b[0m \u001b[0;34m|\u001b[0m \u001b[0;32mNone\u001b[0m \u001b[0;34m=\u001b[0m \u001b[0;32mNone\u001b[0m\u001b[0;34m)\u001b[0m \u001b[0;34m->\u001b[0m \u001b[0mnp\u001b[0m\u001b[0;34m.\u001b[0m\u001b[0mndarray\u001b[0m\u001b[0;34m:\u001b[0m\u001b[0;34m\u001b[0m\u001b[0;34m\u001b[0m\u001b[0m\n\u001b[1;32m   1997\u001b[0m         \u001b[0mvalues\u001b[0m \u001b[0;34m=\u001b[0m \u001b[0mself\u001b[0m\u001b[0;34m.\u001b[0m\u001b[0m_values\u001b[0m\u001b[0;34m\u001b[0m\u001b[0;34m\u001b[0m\u001b[0m\n\u001b[0;32m-> 1998\u001b[0;31m         \u001b[0marr\u001b[0m \u001b[0;34m=\u001b[0m \u001b[0mnp\u001b[0m\u001b[0;34m.\u001b[0m\u001b[0masarray\u001b[0m\u001b[0;34m(\u001b[0m\u001b[0mvalues\u001b[0m\u001b[0;34m,\u001b[0m \u001b[0mdtype\u001b[0m\u001b[0;34m=\u001b[0m\u001b[0mdtype\u001b[0m\u001b[0;34m)\u001b[0m\u001b[0;34m\u001b[0m\u001b[0;34m\u001b[0m\u001b[0m\n\u001b[0m\u001b[1;32m   1999\u001b[0m         if (\n\u001b[1;32m   2000\u001b[0m             \u001b[0mastype_is_view\u001b[0m\u001b[0;34m(\u001b[0m\u001b[0mvalues\u001b[0m\u001b[0;34m.\u001b[0m\u001b[0mdtype\u001b[0m\u001b[0;34m,\u001b[0m \u001b[0marr\u001b[0m\u001b[0;34m.\u001b[0m\u001b[0mdtype\u001b[0m\u001b[0;34m)\u001b[0m\u001b[0;34m\u001b[0m\u001b[0;34m\u001b[0m\u001b[0m\n",
            "\u001b[0;31mValueError\u001b[0m: could not convert string to float: 'Central'"
          ]
        }
      ]
    },
    {
      "cell_type": "code",
      "source": [
        "# Spliting THe data into Training and Testing set\n",
        "X_train_text, X_text"
      ],
      "metadata": {
        "id": "pMrOowyUuIBc"
      },
      "execution_count": null,
      "outputs": []
    }
  ],
  "metadata": {
    "kernelspec": {
      "display_name": "Python 3",
      "language": "python",
      "name": "python3"
    },
    "language_info": {
      "codemirror_mode": {
        "name": "ipython",
        "version": 3
      },
      "file_extension": ".py",
      "mimetype": "text/x-python",
      "name": "python",
      "nbconvert_exporter": "python",
      "pygments_lexer": "ipython3",
      "version": "3.11.4"
    },
    "colab": {
      "provenance": []
    }
  },
  "nbformat": 4,
  "nbformat_minor": 0
}